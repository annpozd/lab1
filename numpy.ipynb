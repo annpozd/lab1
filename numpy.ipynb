{
 "nbformat": 4,
 "nbformat_minor": 0,
 "metadata": {
  "colab": {
   "provenance": []
  },
  "kernelspec": {
   "name": "python3",
   "display_name": "Python 3 (ipykernel)",
   "language": "python"
  },
  "language_info": {
   "name": "python"
  }
 },
 "cells": [
  {
   "cell_type": "markdown",
   "source": [
    "<h1>Импорт библиотек"
   ],
   "metadata": {
    "id": "vC84e9kzyxPy"
   }
  },
  {
   "cell_type": "code",
   "metadata": {
    "id": "cgKeNegmQG5S",
    "ExecuteTime": {
     "end_time": "2025-04-03T09:35:06.062434Z",
     "start_time": "2025-04-03T09:35:06.046628Z"
    }
   },
   "source": [
    "import numpy as np\n",
    "import matplotlib.pyplot as plt"
   ],
   "outputs": [],
   "execution_count": 2
  },
  {
   "cell_type": "markdown",
   "source": [
    "<h1>Задача 1. Дан набор из $p$ матриц размерностью $(n, n)$ и $p$ векторов размерностью $(n, 1)$, найти сумму произведений матриц на векторы. Написать тесты для кода"
   ],
   "metadata": {
    "id": "qFM9uVU2x4Ls"
   }
  },
  {
   "cell_type": "code",
   "source": [
    "def sum_prod(X, V):\n",
    "    '''\n",
    "    X - список матриц размером (n, n)\n",
    "    V - список векторов размером (n, 1)\n",
    "    Гарантируется, что len(X) == len(V)\n",
    "    '''\n",
    "    result = np.zeros_like(X[0] @ V[0])\n",
    "    for mat, vec in zip(X, V):\n",
    "        result += mat @ vec\n",
    "    return result\n",
    "\n",
    "# Тесты для задачи 1\n",
    "def test_sum_prod():\n",
    "    # Тест 1\n",
    "    X1 = [np.array([[1, 2], [3, 4]])]\n",
    "    V1 = [np.array([[1], [2]])]\n",
    "    assert np.array_equal(sum_prod(X1, V1), np.array([[5], [11]]))\n",
    "\n",
    "    # Тест 2\n",
    "    X2 = [np.array([[1, 0], [0, 1]]), np.array([[2, 0], [0, 2]])]\n",
    "    V2 = [np.array([[1], [1]]), np.array([[1], [1]])]\n",
    "    assert np.array_equal(sum_prod(X2, V2), np.array([[3], [3]]))\n",
    "\n",
    "    print(\"Все тесты для sum_prod прошли успешно!\")\n",
    "\n",
    "test_sum_prod()"
   ],
   "metadata": {
    "id": "IAbUvEiYyWFF",
    "ExecuteTime": {
     "end_time": "2025-04-03T09:35:09.609057Z",
     "start_time": "2025-04-03T09:35:09.596583Z"
    }
   },
   "outputs": [
    {
     "name": "stdout",
     "output_type": "stream",
     "text": [
      "Все тесты для sum_prod прошли успешно!\n"
     ]
    }
   ],
   "execution_count": 4
  },
  {
   "cell_type": "markdown",
   "source": [
    "<h1>Задача 2. Дана матрица M, напишите функцию, которая бинаризует матрицу по некоторому threshold (то есть, все значения большие threshold становятся равными 1, иначе 0). Напишите тесты для кода"
   ],
   "metadata": {
    "id": "TKwPG4fIy2w4"
   }
  },
  {
   "cell_type": "code",
   "source": [
    "def binarize(M, threshold=0.5):\n",
    "    return (M > threshold).astype(int)\n",
    "\n",
    "# Тесты для задачи 2\n",
    "def test_binarize():\n",
    "    # Тест 1\n",
    "    M1 = np.array([[0.1, 0.6], [0.4, 0.9]])\n",
    "    assert np.array_equal(binarize(M1), np.array([[0, 1], [0, 1]]))\n",
    "\n",
    "    # Тест 2 с другим порогом\n",
    "    M2 = np.array([[0.1, 0.6], [0.4, 0.9]])\n",
    "    assert np.array_equal(binarize(M2, 0.7), np.array([[0, 0], [0, 1]]))\n",
    "\n",
    "    print(\"Все тесты для binarize прошли успешно!\")\n",
    "\n",
    "test_binarize()"
   ],
   "metadata": {
    "id": "KQDNMgsjRNH7",
    "ExecuteTime": {
     "end_time": "2025-04-03T09:35:25.252568Z",
     "start_time": "2025-04-03T09:35:25.240670Z"
    }
   },
   "outputs": [
    {
     "name": "stdout",
     "output_type": "stream",
     "text": [
      "Все тесты для binarize прошли успешно!\n"
     ]
    }
   ],
   "execution_count": 5
  },
  {
   "cell_type": "markdown",
   "source": [
    "<h1>Задача 3. Напишите функцию, которая возвращает уникальные элементы из каждой строки матрицы. Напишите такую же функцию, но для столбцов. Напишите тесты для кода"
   ],
   "metadata": {
    "id": "IY5L-h-7zWhN"
   }
  },
  {
   "cell_type": "code",
   "source": [
    "def unique_rows(mat):\n",
    "    return [np.unique(row) for row in mat]\n",
    "\n",
    "def unique_columns(mat):\n",
    "    return [np.unique(col) for col in mat.T]\n",
    "\n",
    "# Тесты для задачи 3\n",
    "def test_unique():\n",
    "    # Тест 1\n",
    "    mat = np.array([[1, 2, 1], [4, 4, 4], [1, 2, 3]])\n",
    "\n",
    "    # Проверка строк\n",
    "    row_uniques = unique_rows(mat)\n",
    "    assert len(row_uniques) == 3\n",
    "    assert np.array_equal(row_uniques[0], [1, 2])\n",
    "    assert np.array_equal(row_uniques[1], [4])\n",
    "    assert np.array_equal(row_uniques[2], [1, 2, 3])\n",
    "\n",
    "    # Проверка столбцов\n",
    "    col_uniques = unique_columns(mat)\n",
    "    assert len(col_uniques) == 3\n",
    "    assert np.array_equal(col_uniques[0], [1, 4])\n",
    "    assert np.array_equal(col_uniques[1], [2, 4])\n",
    "    assert np.array_equal(col_uniques[2], [1, 3, 4])\n",
    "\n",
    "    print(\"Все тесты для unique_rows и unique_columns прошли успешно!\")\n",
    "\n",
    "test_unique()"
   ],
   "metadata": {
    "id": "-8dEZhR0SBC-",
    "ExecuteTime": {
     "end_time": "2025-04-03T09:35:43.227141Z",
     "start_time": "2025-04-03T09:35:43.212827Z"
    }
   },
   "outputs": [
    {
     "name": "stdout",
     "output_type": "stream",
     "text": [
      "Все тесты для unique_rows и unique_columns прошли успешно!\n"
     ]
    }
   ],
   "execution_count": 6
  },
  {
   "cell_type": "markdown",
   "source": [
    "<h1>Задача 4. Напишите функцию, которая заполняет матрицу с размерами $(m, n)$ случайными числами, распределенными по нормальному закону. Затем считает мат. ожидание и дисперсию для каждого из столбцов и строк, а также строит для каждой строки и столбца гистограмму значений (использовать функцию hist из модуля matplotlib.plot)"
   ],
   "metadata": {
    "id": "roYAlo4Jz-lH"
   }
  },
  {
   "cell_type": "code",
   "source": [
    "def normal_matrix_stats(m, n):\n",
    "    # Создаем матрицу с нормальным распределением\n",
    "    mat = np.random.normal(loc=0, scale=1, size=(m, n))\n",
    "\n",
    "    # Вычисляем статистики для строк\n",
    "    row_means = np.mean(mat, axis=1)\n",
    "    row_vars = np.var(mat, axis=1)\n",
    "\n",
    "    # Вычисляем статистики для столбцов\n",
    "    col_means = np.mean(mat, axis=0)\n",
    "    col_vars = np.var(mat, axis=0)\n",
    "\n",
    "    # Строим гистограммы для строк\n",
    "    plt.figure(figsize=(12, 6))\n",
    "    for i in range(min(3, m)):  # Покажем только первые 3 строки для примера\n",
    "        plt.subplot(1, 3, i+1)\n",
    "        plt.hist(mat[i, :], bins=20)\n",
    "        plt.title(f'Строка {i+1}')\n",
    "    plt.suptitle('Гистограммы значений в строках')\n",
    "    plt.show()\n",
    "\n",
    "    # Строим гистограммы для столбцов\n",
    "    plt.figure(figsize=(12, 6))\n",
    "    for j in range(min(3, n)):  # Покажем только первые 3 столбца для примера\n",
    "        plt.subplot(1, 3, j+1)\n",
    "        plt.hist(mat[:, j], bins=20)\n",
    "        plt.title(f'Столбец {j+1}')\n",
    "    plt.suptitle('Гистограммы значений в столбцах')\n",
    "    plt.show()\n",
    "\n",
    "    return {\n",
    "        'matrix': mat,\n",
    "        'row_means': row_means,\n",
    "        'row_vars': row_vars,\n",
    "        'col_means': col_means,\n",
    "        'col_vars': col_vars\n",
    "    }\n",
    "\n",
    "# Пример использования\n",
    "stats = normal_matrix_stats(5, 4)\n",
    "print(\"Средние по строкам:\", stats['row_means'])\n",
    "print(\"Дисперсии по строкам:\", stats['row_vars'])\n",
    "print(\"Средние по столбцам:\", stats['col_means'])\n",
    "print(\"Дисперсии по столбцам:\", stats['col_vars'])"
   ],
   "metadata": {
    "id": "nZK_71hMSQzv",
    "ExecuteTime": {
     "end_time": "2025-04-03T09:39:19.186968Z",
     "start_time": "2025-04-03T09:39:17.853620Z"
    }
   },
   "outputs": [
    {
     "data": {
      "text/plain": [
       "<Figure size 864x432 with 3 Axes>"
      ],
      "image/png": "[encoded data removed]"
     },
     "metadata": {
      "needs_background": "light"
     },
     "output_type": "display_data"
    },
    {
     "data": {
      "text/plain": [
       "<Figure size 864x432 with 3 Axes>"
      ],
      "image/png": "[encoded data removed]"
     },
     "metadata": {
      "needs_background": "light"
     },
     "output_type": "display_data"
    },
    {
     "name": "stdout",
     "output_type": "stream",
     "text": [
      "Средние по строкам: [ 0.07734207 -0.21215903 -0.08426717 -0.97032716  0.71091177]\n",
      "Дисперсии по строкам: [0.58325206 0.5999451  0.51974454 0.17592558 0.85500347]\n",
      "Средние по столбцам: [ 0.17673367 -0.51450506 -0.27106992  0.2260417 ]\n",
      "Дисперсии по столбцам: [0.35690202 0.3320469  0.87671087 1.40493246]\n"
     ]
    }
   ],
   "execution_count": 7
  },
  {
   "cell_type": "markdown",
   "source": [
    "<h1>Задача 5. Напишите функцию, которая заполняет матрицу $(m, n)$ в шахматном порядке заданными числами $a$ и $b$. Напишите тесты для кода"
   ],
   "metadata": {
    "id": "BDyATNdM0dJ2"
   }
  },
  {
   "cell_type": "code",
   "source": [
    "def chess(m, n, a, b):\n",
    "    mat = np.empty((m, n), dtype=type(a))\n",
    "    for i in range(m):\n",
    "        for j in range(n):\n",
    "            mat[i, j] = a if (i + j) % 2 == 0 else b\n",
    "    return mat\n",
    "\n",
    "# Тесты для задачи 5\n",
    "def test_chess():\n",
    "    # Тест 1\n",
    "    expected1 = np.array([[1, 2], [2, 1]])\n",
    "    assert np.array_equal(chess(2, 2, 1, 2), expected1)\n",
    "\n",
    "    # Тест 2\n",
    "    expected2 = np.array([[0, 5, 0], [5, 0, 5]])\n",
    "    assert np.array_equal(chess(2, 3, 0, 5), expected2)\n",
    "\n",
    "    print(\"Все тесты для chess прошли успешно!\")\n",
    "\n",
    "test_chess()"
   ],
   "metadata": {
    "id": "RWNJYWQGecS6",
    "ExecuteTime": {
     "end_time": "2025-04-03T09:40:30.506760Z",
     "start_time": "2025-04-03T09:40:30.494125Z"
    }
   },
   "outputs": [
    {
     "name": "stdout",
     "output_type": "stream",
     "text": [
      "Все тесты для chess прошли успешно!\n"
     ]
    }
   ],
   "execution_count": 8
  },
  {
   "cell_type": "markdown",
   "source": [
    "<h1>Задача 6. Напишите функцию, которая отрисовывает прямоугольник с заданными размерами (a, b) на изображении размера (m, n), цвет фона задайте в схеме RGB, как и цвет прямоугольника. Цвета также должны быть параметрами функции. Напишите аналогичную функцию но для овала с полуосями a и b. Напишите тесты для кода.\n",
    "Примечание: уравнение эллипса (границы овала) можно записать как:\n",
    "<h1>$\\frac{(x-x_0)^2}{a^2}+\\frac{(y-y_0)^2}{b^2}=1$"
   ],
   "metadata": {
    "id": "-ymXLtTN0vB6"
   }
  },
  {
   "cell_type": "code",
   "source": [
    "def draw_rectangle(a, b, m, n, rectangle_color, background_color):\n",
    "    # Создаем изображение с фоном\n",
    "    image = np.zeros((m, n, 3))\n",
    "    image[:, :] = background_color\n",
    "\n",
    "    # Вычисляем границы прямоугольника\n",
    "    x_start = (n - a) // 2\n",
    "    y_start = (m - b) // 2\n",
    "    x_end = x_start + a\n",
    "    y_end = y_start + b\n",
    "\n",
    "    # Рисуем прямоугольник\n",
    "    image[y_start:y_end, x_start:x_end] = rectangle_color\n",
    "\n",
    "    # Отображаем изображение\n",
    "    plt.imshow(image)\n",
    "    plt.axis('off')\n",
    "    plt.show()\n",
    "\n",
    "def draw_ellipse(a, b, m, n, ellipse_color, background_color):\n",
    "    # Создаем изображение с фоном\n",
    "    image = np.zeros((m, n, 3))\n",
    "    image[:, :] = background_color\n",
    "\n",
    "    # Центр изображения\n",
    "    x0, y0 = n // 2, m // 2\n",
    "\n",
    "    # Создаем сетку координат\n",
    "    x = np.arange(n)\n",
    "    y = np.arange(m)\n",
    "    xx, yy = np.meshgrid(x, y)\n",
    "\n",
    "    # Уравнение эллипса\n",
    "    ellipse = ((xx - x0)**2 / a**2 + (yy - y0)**2 / b**2) <= 1\n",
    "\n",
    "    # Рисуем эллипс\n",
    "    image[ellipse] = ellipse_color\n",
    "\n",
    "    # Отображаем изображение\n",
    "    plt.imshow(image)\n",
    "    plt.axis('off')\n",
    "    plt.show()\n",
    "\n",
    "# Тесты для задачи 6\n",
    "def test_draw():\n",
    "    # Проверяем, что функции выполняются без ошибок\n",
    "    draw_rectangle(50, 30, 100, 100, [1, 0, 0], [0, 0, 1])\n",
    "    draw_ellipse(40, 20, 100, 100, [0, 1, 0], [1, 1, 1])\n",
    "    print(\"Функции отрисовки работают (визуальная проверка)\")\n",
    "\n",
    "test_draw()"
   ],
   "metadata": {
    "id": "sNfl1t_kfOF4",
    "ExecuteTime": {
     "end_time": "2025-04-03T09:40:55.426077Z",
     "start_time": "2025-04-03T09:40:55.307849Z"
    }
   },
   "outputs": [
    {
     "data": {
      "text/plain": [
       "<Figure size 432x288 with 1 Axes>"
      ],
      "image/png": "[encoded data removed]"
     },
     "metadata": {
      "needs_background": "light"
     },
     "output_type": "display_data"
    },
    {
     "data": {
      "text/plain": [
       "<Figure size 432x288 with 1 Axes>"
      ],
      "image/png": "[encoded data removed]"
     },
     "metadata": {
      "needs_background": "light"
     },
     "output_type": "display_data"
    },
    {
     "name": "stdout",
     "output_type": "stream",
     "text": [
      "Функции отрисовки работают (визуальная проверка)\n"
     ]
    }
   ],
   "execution_count": 9
  },
  {
   "cell_type": "markdown",
   "source": [
    "<h1>Задача 7. Дан некий временной ряд. Для данного ряда нужно найти его: математическое ожидание, дисперсию, СКО, найти все локальные максимумы и минимумы (локальный максимум - это точка, которая больше своих соседних точек, а локальный минимум - это точка, которая меньше своих соседей), а также вычислить для данного ряда другой ряд, получаемый методом скользящего среднего с размером окна $p$.\n",
    "<h1>Примечание: метод скользящего среднего подразумевает нахождение среднего из подмножетсва ряда размером $p$"
   ],
   "metadata": {
    "id": "S82c38oz244H"
   }
  },
  {
   "cell_type": "code",
   "source": [
    "def time_series_analysis(series, window_size):\n",
    "    # Основные статистики\n",
    "    mean = np.mean(series)\n",
    "    variance = np.var(series)\n",
    "    std = np.std(series)\n",
    "\n",
    "    # Локальные экстремумы\n",
    "    local_max = []\n",
    "    local_min = []\n",
    "\n",
    "    for i in range(1, len(series)-1):\n",
    "        if series[i] > series[i-1] and series[i] > series[i+1]:\n",
    "            local_max.append(i)\n",
    "        elif series[i] < series[i-1] and series[i] < series[i+1]:\n",
    "            local_min.append(i)\n",
    "\n",
    "    # Скользящее среднее\n",
    "    moving_avg = np.convolve(series, np.ones(window_size)/window_size, mode='valid')\n",
    "\n",
    "    return {\n",
    "        'mean': mean,\n",
    "        'variance': variance,\n",
    "        'std': std,\n",
    "        'local_max': local_max,\n",
    "        'local_min': local_min,\n",
    "        'moving_avg': moving_avg\n",
    "    }\n",
    "\n",
    "# Пример использования\n",
    "series = np.array([1, 3, 7, 1, 2, 6, 0, 1])\n",
    "result = time_series_analysis(series, 3)\n",
    "print(\"Среднее:\", result['mean'])\n",
    "print(\"Дисперсия:\", result['variance'])\n",
    "print(\"СКО:\", result['std'])\n",
    "print(\"Локальные максимумы:\", result['local_max'])\n",
    "print(\"Локальные минимумы:\", result['local_min'])\n",
    "print(\"Скользящее среднее:\", result['moving_avg'])"
   ],
   "metadata": {
    "id": "Zb9mIVge5MMt",
    "ExecuteTime": {
     "end_time": "2025-04-03T09:41:12.027837Z",
     "start_time": "2025-04-03T09:41:12.012044Z"
    }
   },
   "outputs": [
    {
     "name": "stdout",
     "output_type": "stream",
     "text": [
      "Среднее: 2.625\n",
      "Дисперсия: 5.734375\n",
      "СКО: 2.394655507583502\n",
      "Локальные максимумы: [2, 5]\n",
      "Локальные минимумы: [3, 6]\n",
      "Скользящее среднее: [3.66666667 3.66666667 3.33333333 3.         2.66666667 2.33333333]\n"
     ]
    }
   ],
   "execution_count": 10
  },
  {
   "cell_type": "markdown",
   "source": [
    "<h1> Задача 8. Дан некоторый вектор с целочисленными метками классов, напишите функцию, которая выполняет one-hot-encoding для данного вектора\n",
    "<h1> One-hot-encoding - представление, в котором на месте метки некоторого класса стоит 1, в остальных позициях стоит 0. Например для вектора [0, 2, 3, 0] one-hot-encoding выглядит как: [[1, 0, 0, 0], [0, 0, 1, 0], [0, 0, 0, 1], [1, 0, 0, 0]]"
   ],
   "metadata": {
    "id": "jPkylmOX5O9n"
   }
  },
  {
   "cell_type": "code",
   "source": [
    "import numpy as np\n",
    "\n",
    "def one_hot_encoding(labels):\n",
    "    classes = np.unique(labels)\n",
    "    num_classes = len(classes)\n",
    "    encoding = np.zeros((len(labels), num_classes))\n",
    "\n",
    "    # Создаем словарь для соответствия класса его индексу\n",
    "    class_to_index = {cls: idx for idx, cls in enumerate(classes)}\n",
    "\n",
    "    for i, label in enumerate(labels):\n",
    "        encoding[i, class_to_index[label]] = 1\n",
    "\n",
    "    return encoding\n",
    "\n",
    "# Исправленные тесты для задачи 8\n",
    "def test_one_hot():\n",
    "    # Тест 1\n",
    "    labels1 = [0, 2, 3, 0]\n",
    "    # Ожидаемый результат теперь соответствует порядку уникальных классов [0, 2, 3]\n",
    "    expected1 = np.array([\n",
    "        [1, 0, 0],  # класс 0\n",
    "        [0, 1, 0],  # класс 2\n",
    "        [0, 0, 1],  # класс 3\n",
    "        [1, 0, 0]   # класс 0\n",
    "    ])\n",
    "    result1 = one_hot_encoding(labels1)\n",
    "    assert np.array_equal(result1, expected1), f\"Ошибка в тесте 1:\\nОжидалось:\\n{expected1}\\nПолучено:\\n{result1}\"\n",
    "\n",
    "    # Тест 2\n",
    "    labels2 = [1, 1, 0]\n",
    "    # Ожидаемый результат для классов [0, 1]\n",
    "    expected2 = np.array([\n",
    "        [0, 1],  # класс 1\n",
    "        [0, 1],  # класс 1\n",
    "        [1, 0]   # класс 0\n",
    "    ])\n",
    "    result2 = one_hot_encoding(labels2)\n",
    "    assert np.array_equal(result2, expected2), f\"Ошибка в тесте 2:\\nОжидалось:\\n{expected2}\\nПолучено:\\n{result2}\"\n",
    "\n",
    "    print(\"Все тесты для one_hot_encoding прошли успешно!\")\n",
    "\n",
    "test_one_hot()"
   ],
   "metadata": {
    "id": "Y-jlnZvw56lD",
    "ExecuteTime": {
     "end_time": "2025-04-03T09:42:46.384814Z",
     "start_time": "2025-04-03T09:42:46.370845Z"
    }
   },
   "outputs": [
    {
     "name": "stdout",
     "output_type": "stream",
     "text": [
      "Все тесты для one_hot_encoding прошли успешно!\n"
     ]
    }
   ],
   "execution_count": 13
  }
 ]
}
