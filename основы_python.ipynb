{
 "nbformat": 4,
 "nbformat_minor": 0,
 "metadata": {
  "colab": {
   "provenance": []
  },
  "kernelspec": {
   "name": "python3",
   "display_name": "Python 3 (ipykernel)",
   "language": "python"
  },
  "language_info": {
   "name": "python"
  }
 },
 "cells": [
  {
   "cell_type": "markdown",
   "source": [
    "#Задача 1\n",
    "Написать функцию на вход которой подается строка, состоящая из латинских букв.\n",
    "Функция должна вернуть количество гласных букв (a, e, i, o, u) в этой строке. Написать тесты для кода"
   ],
   "metadata": {
    "id": "M-DGa20PaHnu"
   }
  },
  {
   "metadata": {
    "id": "XvX8X_JJ6PCb",
    "ExecuteTime": {
     "end_time": "2025-04-03T08:37:53.056332Z",
     "start_time": "2025-04-03T08:37:53.035463Z"
    }
   },
   "cell_type": "code",
   "source": [
    "def vowels_count(string):\n",
    "    counter = 0\n",
    "    for letter in string:\n",
    "        if letter.lower() in ('a', 'e', 'i', 'o', 'u', 'y'):\n",
    "            counter += 1\n",
    "    return counter\n"
   ],
   "outputs": [],
   "execution_count": 13
  },
  {
   "metadata": {
    "ExecuteTime": {
     "end_time": "2025-04-03T08:39:29.940641Z",
     "start_time": "2025-04-03T08:39:29.930685Z"
    }
   },
   "cell_type": "code",
   "source": [
    "def test_empty_string():\n",
    "    assert vowels_count(\"\") == 0\n",
    "\n",
    "def test_all_vowels():\n",
    "    assert vowels_count(\"aeiouyAEIOUY\") == 12\n",
    "\n",
    "def test_mixed_case_and_chars():\n",
    "    assert vowels_count(\"Hello World! 123\") == 3\n",
    "\n",
    "def test_no_vowels():\n",
    "    assert vowels_count(\"xz123!@#\") == 0"
   ],
   "outputs": [],
   "execution_count": 17
  },
  {
   "cell_type": "markdown",
   "source": [
    "# Задача 2\n",
    "Написать функцию на вход, которой подается строка. Функция должна вернуть true, если\n",
    "каждый символ в строке встречается только 1 раз, иначе должна вернуть false. Написать тесты для кода"
   ],
   "metadata": {
    "id": "t2ClV_Y0bbr6"
   }
  },
  {
   "cell_type": "code",
   "source": [
    "def symbols_check(string):\n",
    "    str_len = len(string)\n",
    "    symbols_set = set()\n",
    "    for symbol in string:\n",
    "        symbols_set.add(symbol)\n",
    "\n",
    "    if len(symbols_set) < str_len:\n",
    "        return False\n",
    "    else:\n",
    "        return True"
   ],
   "metadata": {
    "id": "FppbECao6VIz",
    "ExecuteTime": {
     "end_time": "2025-04-03T08:42:07.273306Z",
     "start_time": "2025-04-03T08:42:07.266310Z"
    }
   },
   "outputs": [],
   "execution_count": 20
  },
  {
   "metadata": {
    "ExecuteTime": {
     "end_time": "2025-04-03T08:42:08.524301Z",
     "start_time": "2025-04-03T08:42:08.517757Z"
    }
   },
   "cell_type": "code",
   "source": [
    "def test_empty_string():\n",
    "    assert symbols_check(\"\") == True  # Пустая строка - все символы уникальны (нет символов)\n",
    "\n",
    "def test_unique_chars():\n",
    "    assert symbols_check(\"abc123\") == True  # Все символы уникальны\n",
    "    assert symbols_check(\"aA bB\") == True   # Регистр и пробелы учитываются\n",
    "\n",
    "def test_duplicate_chars():\n",
    "    assert symbols_check(\"hello\") == False   # Повторяющиеся 'l'\n",
    "    assert symbols_check(\"112233\") == False  # Повторяющиеся цифры\n",
    "\n",
    "def test_case_sensitive():\n",
    "    assert symbols_check(\"aA\") == True       # 'a' и 'A' - разные символы\n",
    "    assert symbols_check(\"AaA\") == False     # Дважды 'A'"
   ],
   "outputs": [],
   "execution_count": 21
  },
  {
   "cell_type": "markdown",
   "source": [
    "# Задача 3\n",
    "Написать функцию, которая принимает положительное число и возвращает количество\n",
    "бит равных 1 в этом числе. Написать тесты для кода"
   ],
   "metadata": {
    "id": "udRiIK1cdt6E"
   }
  },
  {
   "cell_type": "code",
   "source": [
    "def count_bits(n):\n",
    "    count = 0\n",
    "    while n > 0:\n",
    "        count += n & 1\n",
    "        n >>= 1\n",
    "    return count\n",
    "\n",
    "print(count_bits(0))"
   ],
   "metadata": {
    "id": "6tkfDJRz6dp_",
    "ExecuteTime": {
     "end_time": "2025-04-02T16:15:21.985662Z",
     "start_time": "2025-04-02T16:15:21.979593Z"
    }
   },
   "outputs": [
    {
     "name": "stdout",
     "output_type": "stream",
     "text": [
      "0\n"
     ]
    }
   ],
   "execution_count": 12
  },
  {
   "cell_type": "markdown",
   "source": [
    "# Задача 4\n",
    "Написать функцию, которая принимает положительное число. Функция должна вернуть то,\n",
    "сколько раз необходимо перемножать цифры числа или результат перемножения, чтобы\n",
    "получилось число состоящее из одной цифры.\n",
    "Например, для входного числа:\n",
    "· 39 функция должна вернуть 3, так как 3*9=27 => 2*7=14 => 1*4=4\n",
    "· 4 функция должна вернуть 0, так как число уже состоит из одной цифры\n",
    "· 999 функция должна вернуть 4, так как 9*9*9=729 => 7*2*9=126 => 1*2*6=12 =>\n",
    "1*2=2. Написать тесты для кода"
   ],
   "metadata": {
    "id": "26dDUz-Ae17N"
   }
  },
  {
   "cell_type": "code",
   "source": [
    "def magic(n):\n",
    "    counter = 0\n",
    "    while len(n) != 1:\n",
    "\n",
    "    return counter\n",
    "    # Your code goes here"
   ],
   "metadata": {
    "id": "BH1A_Mgi6i4G"
   },
   "execution_count": null,
   "outputs": []
  },
  {
   "cell_type": "markdown",
   "source": [
    "# Задача 5\n",
    "Написать функцию, которая принимает два целочисленных вектора одинаковой длины и\n",
    "возвращает среднеквадратическое отклонение двух векторов. Написать тесты для кода"
   ],
   "metadata": {
    "id": "0nS-kIa8g8vd"
   }
  },
  {
   "cell_type": "code",
   "source": [
    "import math\n",
    "\n",
    "def mse(pred, true):\n",
    "\n",
    "    if len(pred) != len(true):\n",
    "        raise ValueError(\"Векторы должны быть одинаковой длины\")\n",
    "\n",
    "    n = len(pred)\n",
    "    sum_squared_diff = 0.0\n",
    "\n",
    "    for predi, truei in zip(pred, true):\n",
    "        sum_squared_diff += (predi - truei) ** 2\n",
    "\n",
    "    return math.sqrt(sum_squared_diff / n)"
   ],
   "metadata": {
    "id": "8iphx4LM6xbx"
   },
   "execution_count": null,
   "outputs": []
  },
  {
   "cell_type": "markdown",
   "source": [
    "# Задача 6\n",
    "Написать функцию, принимающая целое положительное число. Функция должна вернуть\n",
    "строку вида “(n1**p1)(n2**p2)…(nk**pk)” представляющая разложение числа на простые\n",
    "множители (если pi == 1, то выводить только ni).\n",
    "Например, для числа 86240 функция должна вернуть “(2**5)(5)(7**2)(11)”. Написать тесты для кода"
   ],
   "metadata": {
    "id": "vpIPKL439zkw"
   }
  },
  {
   "cell_type": "code",
   "source": [
    "# Your code goes here"
   ],
   "metadata": {
    "id": "pFebmcZk94Jw"
   },
   "execution_count": null,
   "outputs": []
  },
  {
   "cell_type": "markdown",
   "source": [
    "# Задача 7\n",
    "Написать функцию, принимающая целое число n, задающее количество кубиков. Функция\n",
    "должна определить, можно ли из данного кол-ва кубиков построить пирамиду, то есть\n",
    "можно ли представить число n как 1^2+2^2+3^2+…+k^2. Если можно, то функция должна\n",
    "вернуть k, иначе строку “It is impossible”. Написать тесты для кода"
   ],
   "metadata": {
    "id": "ps2s0BudX7A2"
   }
  },
  {
   "cell_type": "code",
   "source": [
    "def pyramid(number):\n",
    "    # Your code goes here\n",
    "    pass"
   ],
   "metadata": {
    "id": "3YPjEXxhX_YT"
   },
   "execution_count": null,
   "outputs": []
  },
  {
   "cell_type": "markdown",
   "source": [
    "# Задача 8\n",
    "Функция принимает на вход положительное число и определяет является ли оно сбалансированным, т.е. сумма цифр до средних равна сумме цифр после. Средними в случае нечетного числа цифр считать одну цифру, в случае четного - две средних. Написать тесты для кода"
   ],
   "metadata": {
    "id": "KeKgmIdAQMEJ"
   }
  },
  {
   "cell_type": "code",
   "source": [
    "# Your code goes here"
   ],
   "metadata": {
    "id": "gMAAqtqlQrZt"
   },
   "execution_count": null,
   "outputs": []
  }
 ]
}
