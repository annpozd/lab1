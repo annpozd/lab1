{
 "nbformat": 4,
 "nbformat_minor": 0,
 "metadata": {
  "colab": {
   "provenance": []
  },
  "kernelspec": {
   "name": "python3",
   "display_name": "Python 3 (ipykernel)",
   "language": "python"
  },
  "language_info": {
   "name": "python"
  }
 },
 "cells": [
  {
   "cell_type": "markdown",
   "source": [
    "#Задача 1\n",
    "Написать функцию на вход которой подается строка, состоящая из латинских букв.\n",
    "Функция должна вернуть количество гласных букв (a, e, i, o, u) в этой строке. Написать тесты для кода"
   ],
   "metadata": {
    "id": "M-DGa20PaHnu"
   }
  },
  {
   "metadata": {
    "id": "XvX8X_JJ6PCb",
    "ExecuteTime": {
     "end_time": "2025-04-03T08:37:53.056332Z",
     "start_time": "2025-04-03T08:37:53.035463Z"
    }
   },
   "cell_type": "code",
   "source": [
    "def vowels_count(string):\n",
    "    counter = 0\n",
    "    for letter in string:\n",
    "        if letter.lower() in ('a', 'e', 'i', 'o', 'u', 'y'):\n",
    "            counter += 1\n",
    "    return counter\n"
   ],
   "outputs": [],
   "execution_count": 13
  },
  {
   "metadata": {
    "ExecuteTime": {
     "end_time": "2025-04-03T08:39:29.940641Z",
     "start_time": "2025-04-03T08:39:29.930685Z"
    }
   },
   "cell_type": "code",
   "source": [
    "def test_empty_string():\n",
    "    assert vowels_count(\"\") == 0\n",
    "\n",
    "def test_all_vowels():\n",
    "    assert vowels_count(\"aeiouyAEIOUY\") == 12\n",
    "\n",
    "def test_mixed_case_and_chars():\n",
    "    assert vowels_count(\"Hello World! 123\") == 3\n",
    "\n",
    "def test_no_vowels():\n",
    "    assert vowels_count(\"xz123!@#\") == 0"
   ],
   "outputs": [],
   "execution_count": 17
  },
  {
   "cell_type": "markdown",
   "source": [
    "# Задача 2\n",
    "Написать функцию на вход, которой подается строка. Функция должна вернуть true, если\n",
    "каждый символ в строке встречается только 1 раз, иначе должна вернуть false. Написать тесты для кода"
   ],
   "metadata": {
    "id": "t2ClV_Y0bbr6"
   }
  },
  {
   "cell_type": "code",
   "source": [
    "def symbols_check(string):\n",
    "    str_len = len(string)\n",
    "    symbols_set = set()\n",
    "    for symbol in string:\n",
    "        symbols_set.add(symbol)\n",
    "\n",
    "    if len(symbols_set) < str_len:\n",
    "        return False\n",
    "    else:\n",
    "        return True"
   ],
   "metadata": {
    "id": "FppbECao6VIz",
    "ExecuteTime": {
     "end_time": "2025-04-03T08:42:07.273306Z",
     "start_time": "2025-04-03T08:42:07.266310Z"
    }
   },
   "outputs": [],
   "execution_count": 20
  },
  {
   "metadata": {
    "ExecuteTime": {
     "end_time": "2025-04-03T08:42:08.524301Z",
     "start_time": "2025-04-03T08:42:08.517757Z"
    }
   },
   "cell_type": "code",
   "source": [
    "def test_empty_string():\n",
    "    assert symbols_check(\"\") == True  # Пустая строка - все символы уникальны (нет символов)\n",
    "\n",
    "def test_unique_chars():\n",
    "    assert symbols_check(\"abc123\") == True  # Все символы уникальны\n",
    "    assert symbols_check(\"aA bB\") == True   # Регистр и пробелы учитываются\n",
    "\n",
    "def test_duplicate_chars():\n",
    "    assert symbols_check(\"hello\") == False   # Повторяющиеся 'l'\n",
    "    assert symbols_check(\"112233\") == False  # Повторяющиеся цифры\n",
    "\n",
    "def test_case_sensitive():\n",
    "    assert symbols_check(\"aA\") == True       # 'a' и 'A' - разные символы\n",
    "    assert symbols_check(\"AaA\") == False     # Дважды 'A'"
   ],
   "outputs": [],
   "execution_count": 21
  },
  {
   "cell_type": "markdown",
   "source": [
    "# Задача 3\n",
    "Написать функцию, которая принимает положительное число и возвращает количество\n",
    "бит равных 1 в этом числе. Написать тесты для кода"
   ],
   "metadata": {
    "id": "udRiIK1cdt6E"
   }
  },
  {
   "cell_type": "code",
   "source": [
    "def count_bits(n):\n",
    "    count = 0\n",
    "    while n > 0:\n",
    "        count += n & 1\n",
    "        n >>= 1\n",
    "    return count"
   ],
   "metadata": {
    "id": "6tkfDJRz6dp_",
    "ExecuteTime": {
     "end_time": "2025-04-03T09:12:12.170102Z",
     "start_time": "2025-04-03T09:12:12.154850Z"
    }
   },
   "outputs": [],
   "execution_count": 22
  },
  {
   "metadata": {},
   "cell_type": "code",
   "outputs": [],
   "execution_count": null,
   "source": [
    "def test_zero():\n",
    "    assert count_bits(0) == 0  # 0 в двоичном виде: 0 (0 единиц)\n",
    "\n",
    "def test_powers_of_two():\n",
    "    assert count_bits(1) == 1    # 1 → '1' (1 единица)\n",
    "    assert count_bits(2) == 1    # 2 → '10' (1 единица)\n",
    "    assert count_bits(4) == 1    # 4 → '100' (1 единица)\n",
    "    assert count_bits(8) == 1    # 8 → '1000' (1 единица)\n",
    "\n",
    "def test_numbers_with_multiple_bits():\n",
    "    assert count_bits(3) == 2    # 3 → '11' (2 единицы)\n",
    "    assert count_bits(5) == 2    # 5 → '101' (2 единицы)\n",
    "    assert count_bits(7) == 3    # 7 → '111' (3 единицы)\n",
    "    assert count_bits(15) == 4   # 15 → '1111' (4 единицы)\n",
    "\n",
    "def test_large_number():\n",
    "    assert count_bits(1023) == 10  # 1023 → '1111111111' (10 единиц)"
   ]
  },
  {
   "cell_type": "markdown",
   "source": [
    "# Задача 4\n",
    "Написать функцию, которая принимает положительное число. Функция должна вернуть то,\n",
    "сколько раз необходимо перемножать цифры числа или результат перемножения, чтобы\n",
    "получилось число состоящее из одной цифры.\n",
    "Например, для входного числа:\n",
    "· 39 функция должна вернуть 3, так как 3*9=27 => 2*7=14 => 1*4=4\n",
    "· 4 функция должна вернуть 0, так как число уже состоит из одной цифры\n",
    "· 999 функция должна вернуть 4, так как 9*9*9=729 => 7*2*9=126 => 1*2*6=12 =>\n",
    "1*2=2. Написать тесты для кода"
   ],
   "metadata": {
    "id": "26dDUz-Ae17N"
   }
  },
  {
   "cell_type": "code",
   "source": [
    "def magic(n):\n",
    "\n",
    "    if n < 10:\n",
    "        return 0\n",
    "\n",
    "    count = 0\n",
    "    while n >= 10:\n",
    "        product = 1\n",
    "        for digit in str(n):\n",
    "            product *= int(digit)\n",
    "        n = product\n",
    "        count += 1\n",
    "\n",
    "    return count"
   ],
   "metadata": {
    "id": "BH1A_Mgi6i4G"
   },
   "execution_count": null,
   "outputs": []
  },
  {
   "metadata": {},
   "cell_type": "code",
   "outputs": [],
   "execution_count": null,
   "source": [
    "def test_single_digit():\n",
    "    assert magic(0) == 0\n",
    "    assert magic(5) == 0\n",
    "    assert magic(9) == 0\n",
    "\n",
    "def test_two_digits():\n",
    "    assert magic(10) == 1  # 1*0=0\n",
    "    assert magic(39) == 3  # 3*9=27 => 2*7=14 => 1*4=4\n",
    "    assert magic(77) == 4  # 7*7=49 => 4*9=36 => 3*6=18 => 1*8=8\n",
    "\n",
    "def test_three_digits():\n",
    "    assert magic(999) == 4  # 9*9*9=729 => 7*2*9=126 => 1*2*6=12 => 1*2=2\n",
    "    assert magic(123) == 1  # 1*2*3=6\n",
    "    assert magic(555) == 3  # 5*5*5=125 => 1*2*5=10 => 1*0=0\n",
    "\n",
    "def test_large_numbers():\n",
    "    assert magic(999999999) == 3  # 9^9=387420489 => 3*8*7*4*2*0*4*8*9=0\n",
    "    assert magic(111111111) == 1  # 1^9=1\n",
    "    assert magic(123456789) == 2  # 1*2*3*4*5*6*7*8*9=362880 => 3*6*2*8*8*0=0"
   ]
  },
  {
   "cell_type": "markdown",
   "source": [
    "# Задача 5\n",
    "Написать функцию, которая принимает два целочисленных вектора одинаковой длины и\n",
    "возвращает среднеквадратическое отклонение двух векторов. Написать тесты для кода"
   ],
   "metadata": {
    "id": "0nS-kIa8g8vd"
   }
  },
  {
   "cell_type": "code",
   "source": [
    "import math\n",
    "\n",
    "def mse(pred, true):\n",
    "\n",
    "    if len(pred) != len(true):\n",
    "        raise ValueError(\"Векторы должны быть одинаковой длины\")\n",
    "\n",
    "    n = len(pred)\n",
    "    sum_squared_diff = 0.0\n",
    "\n",
    "    for predi, truei in zip(pred, true):\n",
    "        sum_squared_diff += (predi - truei) ** 2\n",
    "\n",
    "    return math.sqrt(sum_squared_diff / n)"
   ],
   "metadata": {
    "id": "8iphx4LM6xbx",
    "ExecuteTime": {
     "end_time": "2025-04-03T09:14:54.870161Z",
     "start_time": "2025-04-03T09:14:54.854135Z"
    }
   },
   "outputs": [],
   "execution_count": 23
  },
  {
   "metadata": {
    "ExecuteTime": {
     "end_time": "2025-04-03T09:14:57.012565Z",
     "start_time": "2025-04-03T09:14:56.356018Z"
    }
   },
   "cell_type": "code",
   "source": [
    "import pytest\n",
    "\n",
    "def test_same_values():\n",
    "    assert mse([1, 2, 3], [1, 2, 3]) == 0.0  # Одинаковые значения → ошибка 0\n",
    "\n",
    "def test_different_values():\n",
    "    assert mse([1, 2], [3, 4]) == pytest.approx(2.0)  # Разница 2 в каждом элементе → RMSE=2\n",
    "\n",
    "def test_error_on_different_lengths():\n",
    "    with pytest.raises(ValueError):\n",
    "        mse([1], [1, 2])  # Разная длина → ошибка"
   ],
   "outputs": [],
   "execution_count": 24
  },
  {
   "cell_type": "markdown",
   "source": [
    "# Задача 6\n",
    "Написать функцию, принимающая целое положительное число. Функция должна вернуть\n",
    "строку вида “(n1**p1)(n2**p2)…(nk**pk)” представляющая разложение числа на простые\n",
    "множители (если pi == 1, то выводить только ni).\n",
    "Например, для числа 86240 функция должна вернуть “(2**5)(5)(7**2)(11)”. Написать тесты для кода"
   ],
   "metadata": {
    "id": "vpIPKL439zkw"
   }
  },
  {
   "cell_type": "code",
   "source": [
    "def prime_factors(n):\n",
    "    if n == 1:\n",
    "        return \"(1)\"\n",
    "\n",
    "    factors = []\n",
    "    divisor = 2\n",
    "\n",
    "    while n > 1:\n",
    "        count = 0\n",
    "        while n % divisor == 0:\n",
    "            count += 1\n",
    "            n = n // divisor\n",
    "        if count > 0:\n",
    "            if count == 1:\n",
    "                factors.append(f\"({divisor})\")\n",
    "            else:\n",
    "                factors.append(f\"({divisor}**{count})\")\n",
    "        divisor += 1\n",
    "\n",
    "    return \"\".join(factors)"
   ],
   "metadata": {
    "id": "pFebmcZk94Jw"
   },
   "execution_count": null,
   "outputs": []
  },
  {
   "metadata": {},
   "cell_type": "code",
   "outputs": [],
   "execution_count": null,
   "source": [
    "def test_prime_factors():\n",
    "    assert prime_factors(1) == \"(1)\"\n",
    "    assert prime_factors(2) == \"(2)\"\n",
    "    assert prime_factors(3) == \"(3)\"\n",
    "    assert prime_factors(4) == \"(2**2)\"\n",
    "    assert prime_factors(5) == \"(5)\"\n",
    "    assert prime_factors(6) == \"(2)(3)\"\n",
    "    assert prime_factors(8) == \"(2**3)\"\n",
    "    assert prime_factors(9) == \"(3**2)\"\n",
    "    assert prime_factors(10) == \"(2)(5)\"\n",
    "    assert prime_factors(86240) == \"(2**5)(5)(7**2)(11)\"\n",
    "    assert prime_factors(999) == \"(3**3)(37)\"\n",
    "    assert prime_factors(1001) == \"(7)(11)(13)\""
   ]
  },
  {
   "cell_type": "markdown",
   "source": [
    "# Задача 7\n",
    "Написать функцию, принимающая целое число n, задающее количество кубиков. Функция\n",
    "должна определить, можно ли из данного кол-ва кубиков построить пирамиду, то есть\n",
    "можно ли представить число n как 1^2+2^2+3^2+…+k^2. Если можно, то функция должна\n",
    "вернуть k, иначе строку “It is impossible”. Написать тесты для кода"
   ],
   "metadata": {
    "id": "ps2s0BudX7A2"
   }
  },
  {
   "cell_type": "code",
   "source": [
    "def pyramid(number):\n",
    "\n",
    "    if number < 1:\n",
    "        return \"It is impossible\"\n",
    "\n",
    "    total = 0\n",
    "    k = 0\n",
    "\n",
    "    while total < number:\n",
    "        k += 1\n",
    "        total += k ** 2\n",
    "\n",
    "        if total == number:\n",
    "            return k\n",
    "\n",
    "    return \"It is impossible\""
   ],
   "metadata": {
    "id": "3YPjEXxhX_YT"
   },
   "execution_count": null,
   "outputs": []
  },
  {
   "metadata": {},
   "cell_type": "code",
   "outputs": [],
   "execution_count": null,
   "source": [
    "def test_pyramid():\n",
    "    # Крайние случаи\n",
    "    assert pyramid(0) == \"It is impossible\"\n",
    "    assert pyramid(1) == 1  # 1^2 = 1\n",
    "\n",
    "    # Возможные пирамиды\n",
    "    assert pyramid(5) == 2  # 1^2 + 2^2 = 5\n",
    "    assert pyramid(14) == 3  # 1 + 4 + 9 = 14\n",
    "    assert pyramid(30) == 4  # 1 + 4 + 9 + 16 = 30\n",
    "    assert pyramid(55) == 5  # 1 + 4 + 9 + 16 + 25 = 55\n",
    "\n",
    "    # Невозможные пирамиды\n",
    "    assert pyramid(2) == \"It is impossible\"\n",
    "    assert pyramid(7) == \"It is impossible\"\n",
    "    assert pyramid(31) == \"It is impossible\"\n",
    "    assert pyramid(100) == \"It is impossible\"\n",
    "\n",
    "    # Большие числа (проверка работы алгоритма)\n",
    "    assert pyramid(506) == 11  # 1^2 + ... + 11^2 = 506\n",
    "    assert pyramid(1240) == \"It is impossible\""
   ]
  },
  {
   "cell_type": "markdown",
   "source": [
    "# Задача 8\n",
    "Функция принимает на вход положительное число и определяет является ли оно сбалансированным, т.е. сумма цифр до средних равна сумме цифр после. Средними в случае нечетного числа цифр считать одну цифру, в случае четного - две средних. Написать тесты для кода"
   ],
   "metadata": {
    "id": "KeKgmIdAQMEJ"
   }
  },
  {
   "cell_type": "code",
   "source": [
    "def is_balanced_number(n):\n",
    "    digits = [int(d) for d in str(n)]\n",
    "    length = len(digits)\n",
    "\n",
    "    if length <= 2:\n",
    "        return True  # Числа из 1-2 цифр всегда сбалансированы, т.к. нет средних чисел -> 0 == 0\n",
    "\n",
    "    middle = length // 2\n",
    "\n",
    "    if length % 2 == 1:\n",
    "        # Нечетное количество цифр - исключаем среднюю\n",
    "        left = digits[:middle]\n",
    "        right = digits[middle+1:]\n",
    "    else:\n",
    "        # Четное количество цифр - исключаем две средние\n",
    "        left = digits[:middle-1]\n",
    "        right = digits[middle+1:]\n",
    "\n",
    "    return sum(left) == sum(right)"
   ],
   "metadata": {
    "id": "gMAAqtqlQrZt"
   },
   "execution_count": null,
   "outputs": []
  },
  {
   "metadata": {},
   "cell_type": "code",
   "outputs": [],
   "execution_count": null,
   "source": [
    "def test_balanced_number():\n",
    "    # Крайние случаи (1-2 цифры всегда сбалансированы)\n",
    "    assert is_balanced_number(1) == True\n",
    "    assert is_balanced_number(11) == True\n",
    "    assert is_balanced_number(12) == True\n",
    "\n",
    "    # Сбалансированные числа\n",
    "    assert is_balanced_number(12321) == True  # 1+2 == 2+1 (средняя 3)\n",
    "    assert is_balanced_number(123321) == True  # 1+2 == 2+1 (средние 33)\n",
    "    assert is_balanced_number(12345) == False  # 1+2 != 4+5\n",
    "    assert is_balanced_number(1234) == False   # 1 != 4\n",
    "\n",
    "    # Дополнительные проверки\n",
    "    assert is_balanced_number(123404321) == True  # Большое сбалансированное\n",
    "    assert is_balanced_number(123456) == False    # Несбалансированное\n",
    "    assert is_balanced_number(111111) == True     # Все цифры одинаковые\n",
    "    assert is_balanced_number(112112) == True     # 1+1 == 1+2 (средние 21)"
   ]
  }
 ]
}
